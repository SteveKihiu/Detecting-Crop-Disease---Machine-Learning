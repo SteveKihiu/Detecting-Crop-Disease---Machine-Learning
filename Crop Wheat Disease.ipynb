{
 "cells": [
  {
   "cell_type": "code",
   "execution_count": 5,
   "metadata": {},
   "outputs": [],
   "source": [
    "# import required libraries\n",
    "import warnings\n",
    "warnings.filterwarnings(\"ignore\")"
   ]
  },
  {
   "cell_type": "code",
   "execution_count": 6,
   "metadata": {},
   "outputs": [
    {
     "name": "stdout",
     "output_type": "stream",
     "text": [
      "The tensorboard extension is already loaded. To reload it, use:\n",
      "  %reload_ext tensorboard\n"
     ]
    }
   ],
   "source": [
    "%load_ext tensorboard"
   ]
  },
  {
   "cell_type": "code",
   "execution_count": 7,
   "metadata": {},
   "outputs": [],
   "source": [
    "import re\n",
    "import os \n",
    "import numpy as np\n",
    "import pandas as pd\n",
    "import seaborn as sns\n",
    "import matplotlib.pyplot as plt \n",
    "from pathlib import Path\n",
    "from tqdm import tqdm\n",
    "from datetime import datetime"
   ]
  },
  {
   "cell_type": "code",
   "execution_count": 8,
   "metadata": {},
   "outputs": [],
   "source": [
    "import tensorflow as tf "
   ]
  },
  {
   "cell_type": "code",
   "execution_count": 9,
   "metadata": {},
   "outputs": [],
   "source": [
    "data_dir = \"./train_val/\""
   ]
  },
  {
   "cell_type": "code",
   "execution_count": 10,
   "metadata": {},
   "outputs": [
    {
     "data": {
      "text/plain": [
       "['train', 'val']"
      ]
     },
     "execution_count": 10,
     "metadata": {},
     "output_type": "execute_result"
    }
   ],
   "source": [
    "# get to know whats inside the data\n",
    "os.listdir(data_dir)"
   ]
  },
  {
   "cell_type": "code",
   "execution_count": 11,
   "metadata": {},
   "outputs": [],
   "source": [
    "# initialize image sizes and parameters\n",
    "HEIGHT = 224\n",
    "WIDTH = 224\n",
    "CHANNELS = 3\n",
    "BATCH_SIZE = 32"
   ]
  },
  {
   "cell_type": "code",
   "execution_count": 12,
   "metadata": {},
   "outputs": [
    {
     "data": {
      "text/plain": [
       "['healthy_wheat', 'leaf_rust', 'stem_rust']"
      ]
     },
     "execution_count": 12,
     "metadata": {},
     "output_type": "execute_result"
    }
   ],
   "source": [
    "os.listdir(data_dir + \"train\")"
   ]
  },
  {
   "cell_type": "code",
   "execution_count": 13,
   "metadata": {},
   "outputs": [],
   "source": [
    "# a function to show the image batch\n",
    "def show_batch(image_batch, label_batch):\n",
    "  plt.figure(figsize=(10,10))\n",
    "  for n in range(25):\n",
    "      ax = plt.subplot(5,5,n+1)\n",
    "      plt.imshow(image_batch[n])\n",
    "      plt.title(CLASS_NAMES[label_batch[n]==1][0].title())\n",
    "      plt.axis('off')"
   ]
  },
  {
   "cell_type": "code",
   "execution_count": 14,
   "metadata": {},
   "outputs": [
    {
     "name": "stdout",
     "output_type": "stream",
     "text": [
      "699\n"
     ]
    },
    {
     "data": {
      "text/plain": [
       "177"
      ]
     },
     "execution_count": 14,
     "metadata": {},
     "output_type": "execute_result"
    }
   ],
   "source": [
    "# get the number of images\n",
    "train_image_count = len(list(Path(data_dir + \"train\").glob('*/*')))\n",
    "val_image_count = len(list(Path(data_dir + \"val\").glob('*/*')))\n",
    "print(train_image_count)\n",
    "val_image_count"
   ]
  },
  {
   "cell_type": "code",
   "execution_count": 78,
   "metadata": {},
   "outputs": [],
   "source": [
    "# train data\n",
    "train_list_ds = tf.data.Dataset.list_files(str(data_dir + \"train/\" +'*/*'))\n",
    "# validation data\n",
    "val_list_ds = tf.data.Dataset.list_files(str(data_dir + \"val/\" +'*/*'))"
   ]
  },
  {
   "cell_type": "code",
   "execution_count": 16,
   "metadata": {},
   "outputs": [
    {
     "data": {
      "text/plain": [
       "array(['healthy_wheat', 'leaf_rust', 'stem_rust'], dtype='<U13')"
      ]
     },
     "execution_count": 16,
     "metadata": {},
     "output_type": "execute_result"
    }
   ],
   "source": [
    "# images class names\n",
    "CLASS_NAMES = np.array([item.name for item in Path(data_dir + \"train\").glob('*')])\n",
    "CLASS_NAMES"
   ]
  },
  {
   "cell_type": "code",
   "execution_count": 17,
   "metadata": {},
   "outputs": [
    {
     "name": "stdout",
     "output_type": "stream",
     "text": [
      "b'.\\\\train_val\\\\train\\\\stem_rust\\\\H1ZJPM.JPG'\n",
      "b'.\\\\train_val\\\\train\\\\stem_rust\\\\SR3XX6.jpg'\n",
      "b'.\\\\train_val\\\\train\\\\leaf_rust\\\\GTGORY.jpg'\n",
      "b'.\\\\train_val\\\\train\\\\stem_rust\\\\J4FNMC.jpg'\n",
      "b'.\\\\train_val\\\\train\\\\healthy_wheat\\\\SVTYF9.jpg'\n"
     ]
    }
   ],
   "source": [
    "# check the images file paths\n",
    "for f in train_list_ds.take(5):\n",
    "  print(f.numpy())"
   ]
  },
  {
   "cell_type": "code",
   "execution_count": 18,
   "metadata": {},
   "outputs": [],
   "source": [
    "# read image \n",
    "# a function to read data\n",
    "def read_image(img_path):\n",
    "    img_loader = tf.io.read_file(img_path)\n",
    "    img_decoder = tf.image.decode_jpeg(img_loader, channels=CHANNELS)\n",
    "    img = tf.image.convert_image_dtype(img_decoder, tf.float32)\n",
    "    img = tf.image.resize(img, [WIDTH, HEIGHT])\n",
    "    # img = img/255.0 # rescale images\n",
    "    return img"
   ]
  },
  {
   "cell_type": "code",
   "execution_count": 19,
   "metadata": {},
   "outputs": [],
   "source": [
    "# To get labels\n",
    "def get_label(file_path):\n",
    "    parts = tf.strings.split(file_path, os.path.sep)\n",
    "    return parts[-2] == CLASS_NAMES"
   ]
  },
  {
   "cell_type": "code",
   "execution_count": 20,
   "metadata": {},
   "outputs": [],
   "source": [
    "# process paths\n",
    "def process_path(file_path):\n",
    "    label = get_label(file_path)\n",
    "    label = tf.cast(label, tf.int32)\n",
    "    img = read_image(file_path)\n",
    "    return img, label"
   ]
  },
  {
   "cell_type": "code",
   "execution_count": 21,
   "metadata": {},
   "outputs": [],
   "source": [
    "# using tensorflow dataset.map to create a dataset of image, label pairs\n",
    "train_labeled_ds = train_list_ds.map(process_path, num_parallel_calls=-1)\n",
    "val_labeled_ds = val_list_ds.map(process_path, num_parallel_calls=-1)"
   ]
  },
  {
   "cell_type": "code",
   "execution_count": 22,
   "metadata": {},
   "outputs": [
    {
     "name": "stdout",
     "output_type": "stream",
     "text": [
      "Image shape:  (224, 224, 3)\n",
      "Label:  0\n"
     ]
    }
   ],
   "source": [
    "for image, label in val_labeled_ds.take(1):\n",
    "  print(\"Image shape: \", image.numpy().shape)\n",
    "  print(\"Label: \", label.numpy())"
   ]
  },
  {
   "cell_type": "code",
   "execution_count": 23,
   "metadata": {},
   "outputs": [],
   "source": [
    "# prepare data for training \n",
    "def prepare_for_training(ds, shuffle_buffer_size=100, training=True):\n",
    "  ds = ds.shuffle(buffer_size=shuffle_buffer_size)\n",
    "\n",
    "  # Repeat forever\n",
    "  if training:\n",
    "    ds = ds.repeat()\n",
    "    print(\"repeating\")\n",
    "  else:\n",
    "    pass\n",
    "  ds = ds.batch(BATCH_SIZE)\n",
    "\n",
    "  # `prefetch` lets the dataset fetch batches in the background while the model\n",
    "  # is training.\n",
    "  ds = ds.prefetch(buffer_size=-1)\n",
    "\n",
    "  return ds"
   ]
  },
  {
   "cell_type": "code",
   "execution_count": 26,
   "metadata": {},
   "outputs": [
    {
     "name": "stdout",
     "output_type": "stream",
     "text": [
      "repeating\n"
     ]
    }
   ],
   "source": [
    "train_ds = prepare_for_training(train_labeled_ds)\n",
    "val_ds = prepare_for_training(val_labeled_ds, training=False)\n",
    "\n",
    "# get some data\n",
    "image_batch, label_batch = next(iter(train_ds))"
   ]
  },
  {
   "cell_type": "code",
   "execution_count": 27,
   "metadata": {},
   "outputs": [
    {
     "ename": "IndexError",
     "evalue": "index 0 is out of bounds for axis 0 with size 0",
     "output_type": "error",
     "traceback": [
      "\u001b[1;31m---------------------------------------------------------------------------\u001b[0m",
      "\u001b[1;31mIndexError\u001b[0m                                Traceback (most recent call last)",
      "\u001b[1;32m<ipython-input-27-126ed6a30af5>\u001b[0m in \u001b[0;36m<module>\u001b[1;34m\u001b[0m\n\u001b[1;32m----> 1\u001b[1;33m \u001b[0mshow_batch\u001b[0m\u001b[1;33m(\u001b[0m\u001b[0mimage_batch\u001b[0m\u001b[1;33m.\u001b[0m\u001b[0mnumpy\u001b[0m\u001b[1;33m(\u001b[0m\u001b[1;33m)\u001b[0m\u001b[1;33m,\u001b[0m \u001b[0mlabel_batch\u001b[0m\u001b[1;33m.\u001b[0m\u001b[0mnumpy\u001b[0m\u001b[1;33m(\u001b[0m\u001b[1;33m)\u001b[0m\u001b[1;33m)\u001b[0m\u001b[1;33m\u001b[0m\u001b[0m\n\u001b[0m",
      "\u001b[1;32m<ipython-input-13-a8417663978e>\u001b[0m in \u001b[0;36mshow_batch\u001b[1;34m(image_batch, label_batch)\u001b[0m\n\u001b[0;32m      5\u001b[0m       \u001b[0max\u001b[0m \u001b[1;33m=\u001b[0m \u001b[0mplt\u001b[0m\u001b[1;33m.\u001b[0m\u001b[0msubplot\u001b[0m\u001b[1;33m(\u001b[0m\u001b[1;36m5\u001b[0m\u001b[1;33m,\u001b[0m\u001b[1;36m5\u001b[0m\u001b[1;33m,\u001b[0m\u001b[0mn\u001b[0m\u001b[1;33m+\u001b[0m\u001b[1;36m1\u001b[0m\u001b[1;33m)\u001b[0m\u001b[1;33m\u001b[0m\u001b[0m\n\u001b[0;32m      6\u001b[0m       \u001b[0mplt\u001b[0m\u001b[1;33m.\u001b[0m\u001b[0mimshow\u001b[0m\u001b[1;33m(\u001b[0m\u001b[0mimage_batch\u001b[0m\u001b[1;33m[\u001b[0m\u001b[0mn\u001b[0m\u001b[1;33m]\u001b[0m\u001b[1;33m)\u001b[0m\u001b[1;33m\u001b[0m\u001b[0m\n\u001b[1;32m----> 7\u001b[1;33m       \u001b[0mplt\u001b[0m\u001b[1;33m.\u001b[0m\u001b[0mtitle\u001b[0m\u001b[1;33m(\u001b[0m\u001b[0mCLASS_NAMES\u001b[0m\u001b[1;33m[\u001b[0m\u001b[0mlabel_batch\u001b[0m\u001b[1;33m[\u001b[0m\u001b[0mn\u001b[0m\u001b[1;33m]\u001b[0m\u001b[1;33m==\u001b[0m\u001b[1;36m1\u001b[0m\u001b[1;33m]\u001b[0m\u001b[1;33m[\u001b[0m\u001b[1;36m0\u001b[0m\u001b[1;33m]\u001b[0m\u001b[1;33m.\u001b[0m\u001b[0mtitle\u001b[0m\u001b[1;33m(\u001b[0m\u001b[1;33m)\u001b[0m\u001b[1;33m)\u001b[0m\u001b[1;33m\u001b[0m\u001b[0m\n\u001b[0m\u001b[0;32m      8\u001b[0m       \u001b[0mplt\u001b[0m\u001b[1;33m.\u001b[0m\u001b[0maxis\u001b[0m\u001b[1;33m(\u001b[0m\u001b[1;34m'off'\u001b[0m\u001b[1;33m)\u001b[0m\u001b[1;33m\u001b[0m\u001b[0m\n",
      "\u001b[1;31mIndexError\u001b[0m: index 0 is out of bounds for axis 0 with size 0"
     ]
    },
    {
     "data": {
      "image/png": "[encoded data removed]",
      "text/plain": [
       "<Figure size 720x720 with 1 Axes>"
      ]
     },
     "metadata": {
      "needs_background": "light"
     },
     "output_type": "display_data"
    }
   ],
   "source": [
    "show_batch(image_batch.numpy(), label_batch.numpy())"
   ]
  },
  {
   "cell_type": "code",
   "execution_count": 28,
   "metadata": {},
   "outputs": [],
   "source": [
    "test_list = \"./test/\""
   ]
  },
  {
   "cell_type": "code",
   "execution_count": 29,
   "metadata": {},
   "outputs": [],
   "source": [
    "test_list_ds = tf.data.Dataset.list_files(str(test_list +'*/*'))"
   ]
  },
  {
   "cell_type": "code",
   "execution_count": 30,
   "metadata": {},
   "outputs": [
    {
     "name": "stdout",
     "output_type": "stream",
     "text": [
      "b'.\\\\test\\\\test\\\\F0BMJU.jfif'\n",
      "b'.\\\\test\\\\test\\\\S7GZWC.jfif'\n",
      "b'.\\\\test\\\\test\\\\4J0AQ2.JPG'\n",
      "b'.\\\\test\\\\test\\\\26MSDN.jpg'\n",
      "b'.\\\\test\\\\test\\\\Y7VVJU.jfif'\n"
     ]
    }
   ],
   "source": [
    "# test list file names\n",
    "for f in test_list_ds.take(5):\n",
    "  print(f.numpy())"
   ]
  },
  {
   "cell_type": "code",
   "execution_count": 31,
   "metadata": {},
   "outputs": [],
   "source": [
    "# process test\n",
    "def process_test(image_path):\n",
    "    img = read_image(image_path)\n",
    "    return img, image_path"
   ]
  },
  {
   "cell_type": "code",
   "execution_count": 32,
   "metadata": {},
   "outputs": [],
   "source": [
    "test_ds = test_list_ds.map(process_test, num_parallel_calls=-1)"
   ]
  },
  {
   "cell_type": "code",
   "execution_count": 33,
   "metadata": {},
   "outputs": [
    {
     "name": "stdout",
     "output_type": "stream",
     "text": [
      "(224, 224, 3)\n",
      "b'.\\\\test\\\\test\\\\F0BMJU.jfif'\n"
     ]
    },
    {
     "data": {
      "image/png": "[encoded data removed]",
      "text/plain": [
       "<Figure size 432x288 with 1 Axes>"
      ]
     },
     "metadata": {
      "needs_background": "light"
     },
     "output_type": "display_data"
    }
   ],
   "source": [
    "for i, j in test_ds.take(1):\n",
    "    print(i.numpy().shape)\n",
    "    print(j.numpy())\n",
    "    plt.imshow(i.numpy())"
   ]
  },
  {
   "cell_type": "code",
   "execution_count": 34,
   "metadata": {},
   "outputs": [],
   "source": [
    "# temsorboard\n",
    "log_dir=\"logs/\" + datetime.now().strftime(\"%Y%m%d-%H%M%S\")\n",
    "tensorboard = tf.keras.callbacks.TensorBoard(log_dir=log_dir, histogram_freq=1)\n",
    "\n",
    "# Early stopping\n",
    "es = tf.keras.callbacks.EarlyStopping(monitor=\"val_loss\", patience=3)\n",
    "\n",
    "# model checkpoints\n",
    "checkpoint_path =  \"model/\" + datetime.now().strftime(\"%Y%m%d-%H%M%S\") + \"/cp.ckpt\"\n",
    "model_checkpoints = tf.keras.callbacks.ModelCheckpoint(\n",
    "            checkpoint_path,\n",
    "            save_best_only=True,\n",
    "            save_weights_only=True,\n",
    "            monitor='val_categorical_accuracy',\n",
    "            mode='max')"
   ]
  },
  {
   "cell_type": "code",
   "execution_count": 45,
   "metadata": {},
   "outputs": [],
   "source": [
    "callbacks = [tensorboard, es]"
   ]
  },
  {
   "cell_type": "code",
   "execution_count": 55,
   "metadata": {},
   "outputs": [],
   "source": [
    "logdir = os.path.join('cnn_selu_callbacks')"
   ]
  },
  {
   "cell_type": "code",
   "execution_count": 56,
   "metadata": {},
   "outputs": [],
   "source": [
    "callbacks = [tf.keras.callbacks.TensorBoard(log_dir=logdir, histogram_freq=1, profile_batch = 100000000)]"
   ]
  },
  {
   "cell_type": "code",
   "execution_count": 57,
   "metadata": {},
   "outputs": [
    {
     "name": "stdout",
     "output_type": "stream",
     "text": [
      "{0: 0.8146853146853147, 1: 0.7766666666666667, 2: 2.061946902654867}\n"
     ]
    }
   ],
   "source": [
    "# define class weights\n",
    "leaf_rust_count = len(os.listdir(data_dir + \"train/leaf_rust\"))\n",
    "stem_rust_count = len(os.listdir(data_dir + \"train/stem_rust\"))\n",
    "healthy_wheat_count =len(os.listdir(data_dir + \"train/healthy_wheat\"))\n",
    "total = leaf_rust_count + stem_rust_count + healthy_wheat_count\n",
    "\n",
    "leaf_rust_weight = (1/leaf_rust_count) * (total) / 3.0\n",
    "stem_rust_weight = (1/stem_rust_count) * (total) / 3.0\n",
    "healthy_wheat_weight = (1/healthy_wheat_count) * (total) / 3.0\n",
    "\n",
    "class_weight = {0:leaf_rust_weight, 1:stem_rust_weight, 2:healthy_wheat_weight}\n",
    "print(class_weight)"
   ]
  },
  {
   "cell_type": "code",
   "execution_count": 58,
   "metadata": {},
   "outputs": [],
   "source": [
    "def simple_model():\n",
    "    model = tf.keras.Sequential()\n",
    "    model.add(tf.keras.layers.Conv2D(32 ,(3,3), activation=\"relu\", \n",
    "                padding=\"same\", input_shape=(224,224, 3)))\n",
    "    model.add(tf.keras.layers.MaxPool2D(2,2, padding=\"same\"))\n",
    "    model.add(tf.keras.layers.GlobalAveragePooling2D())\n",
    "    model.add(tf.keras.layers.Dense(3, activation=\"softmax\"))\n",
    "    model.compile(optimizer=tf.keras.optimizers.Adam(lr=0.01), \n",
    "                    loss=tf.keras.losses.categorical_crossentropy, \n",
    "                    metrics = [tf.keras.metrics.categorical_accuracy])\n",
    "    return model "
   ]
  },
  {
   "cell_type": "code",
   "execution_count": 59,
   "metadata": {},
   "outputs": [
    {
     "name": "stdout",
     "output_type": "stream",
     "text": [
      "21\n"
     ]
    },
    {
     "data": {
      "text/plain": [
       "5"
      ]
     },
     "execution_count": 59,
     "metadata": {},
     "output_type": "execute_result"
    }
   ],
   "source": [
    "steps_per_epoch = train_image_count // BATCH_SIZE\n",
    "validation_steps = val_image_count // BATCH_SIZE\n",
    "print(steps_per_epoch)\n",
    "validation_steps"
   ]
  },
  {
   "cell_type": "code",
   "execution_count": 60,
   "metadata": {},
   "outputs": [],
   "source": [
    "# fit the model\n",
    "model = simple_model()"
   ]
  },
  {
   "cell_type": "code",
   "execution_count": 61,
   "metadata": {},
   "outputs": [],
   "source": [
    "import datetime"
   ]
  },
  {
   "cell_type": "code",
   "execution_count": 62,
   "metadata": {},
   "outputs": [
    {
     "name": "stdout",
     "output_type": "stream",
     "text": [
      "Epoch 1/1000\n",
      "21/21 [==============================] - 85s 4s/step - loss: 0.0000e+00 - categorical_accuracy: 0.3646 - val_loss: 0.0000e+00 - val_categorical_accuracy: 0.4313\n",
      "Epoch 2/1000\n",
      "21/21 [==============================] - 79s 4s/step - loss: 0.0000e+00 - categorical_accuracy: 0.3765 - val_loss: 0.0000e+00 - val_categorical_accuracy: 0.4313\n",
      "Epoch 3/1000\n",
      "21/21 [==============================] - 89s 4s/step - loss: 0.0000e+00 - categorical_accuracy: 0.3557 - val_loss: 0.0000e+00 - val_categorical_accuracy: 0.4313\n",
      "Epoch 4/1000\n",
      "21/21 [==============================] - 82s 4s/step - loss: 0.0000e+00 - categorical_accuracy: 0.3780 - val_loss: 0.0000e+00 - val_categorical_accuracy: 0.4313\n",
      "Epoch 5/1000\n",
      "21/21 [==============================] - 70s 3s/step - loss: 0.0000e+00 - categorical_accuracy: 0.3869 - val_loss: 0.0000e+00 - val_categorical_accuracy: 0.4313\n",
      "Epoch 6/1000\n",
      "21/21 [==============================] - 63s 3s/step - loss: 0.0000e+00 - categorical_accuracy: 0.3676 - val_loss: 0.0000e+00 - val_categorical_accuracy: 0.4313\n",
      "Epoch 7/1000\n",
      "21/21 [==============================] - 86s 4s/step - loss: 0.0000e+00 - categorical_accuracy: 0.3512 - val_loss: 0.0000e+00 - val_categorical_accuracy: 0.4313\n",
      "Epoch 8/1000\n",
      "21/21 [==============================] - 80s 4s/step - loss: 0.0000e+00 - categorical_accuracy: 0.3705 - val_loss: 0.0000e+00 - val_categorical_accuracy: 0.4313\n",
      "Epoch 9/1000\n",
      "21/21 [==============================] - 69s 3s/step - loss: 0.0000e+00 - categorical_accuracy: 0.3929 - val_loss: 0.0000e+00 - val_categorical_accuracy: 0.4313\n",
      "Epoch 10/1000\n",
      "21/21 [==============================] - 71s 3s/step - loss: 0.0000e+00 - categorical_accuracy: 0.3705 - val_loss: 0.0000e+00 - val_categorical_accuracy: 0.4313\n",
      "Epoch 11/1000\n",
      "21/21 [==============================] - 69s 3s/step - loss: 0.0000e+00 - categorical_accuracy: 0.3690 - val_loss: 0.0000e+00 - val_categorical_accuracy: 0.4313\n",
      "Epoch 12/1000\n",
      "21/21 [==============================] - 71s 3s/step - loss: 0.0000e+00 - categorical_accuracy: 0.3705 - val_loss: 0.0000e+00 - val_categorical_accuracy: 0.4313\n",
      "Epoch 13/1000\n",
      "21/21 [==============================] - 88s 4s/step - loss: 0.0000e+00 - categorical_accuracy: 0.3571 - val_loss: 0.0000e+00 - val_categorical_accuracy: 0.4313\n",
      "Epoch 14/1000\n",
      "21/21 [==============================] - 88s 4s/step - loss: 0.0000e+00 - categorical_accuracy: 0.3795 - val_loss: 0.0000e+00 - val_categorical_accuracy: 0.4313\n",
      "Epoch 15/1000\n",
      "21/21 [==============================] - 107s 5s/step - loss: 0.0000e+00 - categorical_accuracy: 0.3646 - val_loss: 0.0000e+00 - val_categorical_accuracy: 0.4313\n",
      "Epoch 16/1000\n",
      "21/21 [==============================] - 85s 4s/step - loss: 0.0000e+00 - categorical_accuracy: 0.3884 - val_loss: 0.0000e+00 - val_categorical_accuracy: 0.4313\n",
      "Epoch 17/1000\n",
      "21/21 [==============================] - 67s 3s/step - loss: 0.0000e+00 - categorical_accuracy: 0.3542 - val_loss: 0.0000e+00 - val_categorical_accuracy: 0.4313\n",
      "Epoch 18/1000\n",
      "21/21 [==============================] - 62s 3s/step - loss: 0.0000e+00 - categorical_accuracy: 0.3690 - val_loss: 0.0000e+00 - val_categorical_accuracy: 0.4313\n",
      "Epoch 19/1000\n",
      "21/21 [==============================] - 60s 3s/step - loss: 0.0000e+00 - categorical_accuracy: 0.3705 - val_loss: 0.0000e+00 - val_categorical_accuracy: 0.4313\n",
      "Epoch 20/1000\n",
      "21/21 [==============================] - 61s 3s/step - loss: 0.0000e+00 - categorical_accuracy: 0.3765 - val_loss: 0.0000e+00 - val_categorical_accuracy: 0.4313\n",
      "Epoch 21/1000\n",
      "21/21 [==============================] - 78s 4s/step - loss: 0.0000e+00 - categorical_accuracy: 0.3705 - val_loss: 0.0000e+00 - val_categorical_accuracy: 0.4313\n",
      "Epoch 22/1000\n",
      "21/21 [==============================] - 67s 3s/step - loss: 0.0000e+00 - categorical_accuracy: 0.3676 - val_loss: 0.0000e+00 - val_categorical_accuracy: 0.4313\n",
      "Epoch 23/1000\n",
      "21/21 [==============================] - 68s 3s/step - loss: 0.0000e+00 - categorical_accuracy: 0.3690 - val_loss: 0.0000e+00 - val_categorical_accuracy: 0.4313\n",
      "Epoch 24/1000\n",
      " 3/21 [===>..........................] - ETA: 42s - loss: 0.0000e+00 - categorical_accuracy: 0.4583"
     ]
    },
    {
     "ename": "KeyboardInterrupt",
     "evalue": "",
     "output_type": "error",
     "traceback": [
      "\u001b[1;31m---------------------------------------------------------------------------\u001b[0m",
      "\u001b[1;31mKeyboardInterrupt\u001b[0m                         Traceback (most recent call last)",
      "\u001b[1;32m<ipython-input-62-5ba589285a65>\u001b[0m in \u001b[0;36m<module>\u001b[1;34m\u001b[0m\n\u001b[0;32m      1\u001b[0m model.fit(train_ds, epochs=1000, steps_per_epoch=steps_per_epoch, \n\u001b[0;32m      2\u001b[0m                 \u001b[0mvalidation_data\u001b[0m\u001b[1;33m=\u001b[0m\u001b[0mval_ds\u001b[0m\u001b[1;33m,\u001b[0m \u001b[0mvalidation_steps\u001b[0m\u001b[1;33m=\u001b[0m\u001b[0mvalidation_steps\u001b[0m\u001b[1;33m,\u001b[0m\u001b[1;33m\u001b[0m\u001b[0m\n\u001b[1;32m----> 3\u001b[1;33m                 callbacks=callbacks, class_weight=class_weight)\n\u001b[0m",
      "\u001b[1;32mc:\\users\\skihiu\\lib\\site-packages\\tensorflow\\python\\keras\\engine\\training.py\u001b[0m in \u001b[0;36mfit\u001b[1;34m(self, x, y, batch_size, epochs, verbose, callbacks, validation_split, validation_data, shuffle, class_weight, sample_weight, initial_epoch, steps_per_epoch, validation_steps, validation_freq, max_queue_size, workers, use_multiprocessing, **kwargs)\u001b[0m\n\u001b[0;32m    641\u001b[0m         \u001b[0mmax_queue_size\u001b[0m\u001b[1;33m=\u001b[0m\u001b[0mmax_queue_size\u001b[0m\u001b[1;33m,\u001b[0m\u001b[1;33m\u001b[0m\u001b[0m\n\u001b[0;32m    642\u001b[0m         \u001b[0mworkers\u001b[0m\u001b[1;33m=\u001b[0m\u001b[0mworkers\u001b[0m\u001b[1;33m,\u001b[0m\u001b[1;33m\u001b[0m\u001b[0m\n\u001b[1;32m--> 643\u001b[1;33m         use_multiprocessing=use_multiprocessing)\n\u001b[0m\u001b[0;32m    644\u001b[0m \u001b[1;33m\u001b[0m\u001b[0m\n\u001b[0;32m    645\u001b[0m   def evaluate(self,\n",
      "\u001b[1;32mc:\\users\\skihiu\\lib\\site-packages\\tensorflow\\python\\keras\\engine\\training_generator.py\u001b[0m in \u001b[0;36mfit\u001b[1;34m(self, model, x, y, batch_size, epochs, verbose, callbacks, validation_split, validation_data, shuffle, class_weight, sample_weight, initial_epoch, steps_per_epoch, validation_steps, validation_freq, **kwargs)\u001b[0m\n\u001b[0;32m    692\u001b[0m         \u001b[0mshuffle\u001b[0m\u001b[1;33m=\u001b[0m\u001b[0mshuffle\u001b[0m\u001b[1;33m,\u001b[0m\u001b[1;33m\u001b[0m\u001b[0m\n\u001b[0;32m    693\u001b[0m         \u001b[0minitial_epoch\u001b[0m\u001b[1;33m=\u001b[0m\u001b[0minitial_epoch\u001b[0m\u001b[1;33m,\u001b[0m\u001b[1;33m\u001b[0m\u001b[0m\n\u001b[1;32m--> 694\u001b[1;33m         steps_name='steps_per_epoch')\n\u001b[0m\u001b[0;32m    695\u001b[0m \u001b[1;33m\u001b[0m\u001b[0m\n\u001b[0;32m    696\u001b[0m   def evaluate(self,\n",
      "\u001b[1;32mc:\\users\\skihiu\\lib\\site-packages\\tensorflow\\python\\keras\\engine\\training_generator.py\u001b[0m in \u001b[0;36mmodel_iteration\u001b[1;34m(model, data, steps_per_epoch, epochs, verbose, callbacks, validation_data, validation_steps, validation_freq, class_weight, max_queue_size, workers, use_multiprocessing, shuffle, initial_epoch, mode, batch_size, steps_name, **kwargs)\u001b[0m\n\u001b[0;32m    262\u001b[0m \u001b[1;33m\u001b[0m\u001b[0m\n\u001b[0;32m    263\u001b[0m       \u001b[0mis_deferred\u001b[0m \u001b[1;33m=\u001b[0m \u001b[1;32mnot\u001b[0m \u001b[0mmodel\u001b[0m\u001b[1;33m.\u001b[0m\u001b[0m_is_compiled\u001b[0m\u001b[1;33m\u001b[0m\u001b[0m\n\u001b[1;32m--> 264\u001b[1;33m       \u001b[0mbatch_outs\u001b[0m \u001b[1;33m=\u001b[0m \u001b[0mbatch_function\u001b[0m\u001b[1;33m(\u001b[0m\u001b[1;33m*\u001b[0m\u001b[0mbatch_data\u001b[0m\u001b[1;33m)\u001b[0m\u001b[1;33m\u001b[0m\u001b[0m\n\u001b[0m\u001b[0;32m    265\u001b[0m       \u001b[1;32mif\u001b[0m \u001b[1;32mnot\u001b[0m \u001b[0misinstance\u001b[0m\u001b[1;33m(\u001b[0m\u001b[0mbatch_outs\u001b[0m\u001b[1;33m,\u001b[0m \u001b[0mlist\u001b[0m\u001b[1;33m)\u001b[0m\u001b[1;33m:\u001b[0m\u001b[1;33m\u001b[0m\u001b[0m\n\u001b[0;32m    266\u001b[0m         \u001b[0mbatch_outs\u001b[0m \u001b[1;33m=\u001b[0m \u001b[1;33m[\u001b[0m\u001b[0mbatch_outs\u001b[0m\u001b[1;33m]\u001b[0m\u001b[1;33m\u001b[0m\u001b[0m\n",
      "\u001b[1;32mc:\\users\\skihiu\\lib\\site-packages\\tensorflow\\python\\keras\\engine\\training.py\u001b[0m in \u001b[0;36mtrain_on_batch\u001b[1;34m(self, x, y, sample_weight, class_weight, reset_metrics)\u001b[0m\n\u001b[0;32m    916\u001b[0m       \u001b[0mself\u001b[0m\u001b[1;33m.\u001b[0m\u001b[0m_update_sample_weight_modes\u001b[0m\u001b[1;33m(\u001b[0m\u001b[0msample_weights\u001b[0m\u001b[1;33m=\u001b[0m\u001b[0msample_weights\u001b[0m\u001b[1;33m)\u001b[0m\u001b[1;33m\u001b[0m\u001b[0m\n\u001b[0;32m    917\u001b[0m       \u001b[0mself\u001b[0m\u001b[1;33m.\u001b[0m\u001b[0m_make_train_function\u001b[0m\u001b[1;33m(\u001b[0m\u001b[1;33m)\u001b[0m\u001b[1;33m\u001b[0m\u001b[0m\n\u001b[1;32m--> 918\u001b[1;33m       \u001b[0moutputs\u001b[0m \u001b[1;33m=\u001b[0m \u001b[0mself\u001b[0m\u001b[1;33m.\u001b[0m\u001b[0mtrain_function\u001b[0m\u001b[1;33m(\u001b[0m\u001b[0mins\u001b[0m\u001b[1;33m)\u001b[0m  \u001b[1;31m# pylint: disable=not-callable\u001b[0m\u001b[1;33m\u001b[0m\u001b[0m\n\u001b[0m\u001b[0;32m    919\u001b[0m \u001b[1;33m\u001b[0m\u001b[0m\n\u001b[0;32m    920\u001b[0m     \u001b[1;32mif\u001b[0m \u001b[0mreset_metrics\u001b[0m\u001b[1;33m:\u001b[0m\u001b[1;33m\u001b[0m\u001b[0m\n",
      "\u001b[1;32mc:\\users\\skihiu\\lib\\site-packages\\tensorflow\\python\\keras\\backend.py\u001b[0m in \u001b[0;36m__call__\u001b[1;34m(self, inputs)\u001b[0m\n\u001b[0;32m   3508\u001b[0m         \u001b[0mvalue\u001b[0m \u001b[1;33m=\u001b[0m \u001b[0mmath_ops\u001b[0m\u001b[1;33m.\u001b[0m\u001b[0mcast\u001b[0m\u001b[1;33m(\u001b[0m\u001b[0mvalue\u001b[0m\u001b[1;33m,\u001b[0m \u001b[0mtensor\u001b[0m\u001b[1;33m.\u001b[0m\u001b[0mdtype\u001b[0m\u001b[1;33m)\u001b[0m\u001b[1;33m\u001b[0m\u001b[0m\n\u001b[0;32m   3509\u001b[0m       \u001b[0mconverted_inputs\u001b[0m\u001b[1;33m.\u001b[0m\u001b[0mappend\u001b[0m\u001b[1;33m(\u001b[0m\u001b[0mvalue\u001b[0m\u001b[1;33m)\u001b[0m\u001b[1;33m\u001b[0m\u001b[0m\n\u001b[1;32m-> 3510\u001b[1;33m     \u001b[0moutputs\u001b[0m \u001b[1;33m=\u001b[0m \u001b[0mself\u001b[0m\u001b[1;33m.\u001b[0m\u001b[0m_graph_fn\u001b[0m\u001b[1;33m(\u001b[0m\u001b[1;33m*\u001b[0m\u001b[0mconverted_inputs\u001b[0m\u001b[1;33m)\u001b[0m\u001b[1;33m\u001b[0m\u001b[0m\n\u001b[0m\u001b[0;32m   3511\u001b[0m \u001b[1;33m\u001b[0m\u001b[0m\n\u001b[0;32m   3512\u001b[0m     \u001b[1;31m# EagerTensor.numpy() will often make a copy to ensure memory safety.\u001b[0m\u001b[1;33m\u001b[0m\u001b[1;33m\u001b[0m\u001b[0m\n",
      "\u001b[1;32mc:\\users\\skihiu\\lib\\site-packages\\tensorflow\\python\\eager\\function.py\u001b[0m in \u001b[0;36m__call__\u001b[1;34m(self, *args, **kwargs)\u001b[0m\n\u001b[0;32m    570\u001b[0m       raise TypeError(\"Keyword arguments {} unknown. Expected {}.\".format(\n\u001b[0;32m    571\u001b[0m           list(kwargs.keys()), list(self._arg_keywords)))\n\u001b[1;32m--> 572\u001b[1;33m     \u001b[1;32mreturn\u001b[0m \u001b[0mself\u001b[0m\u001b[1;33m.\u001b[0m\u001b[0m_call_flat\u001b[0m\u001b[1;33m(\u001b[0m\u001b[0margs\u001b[0m\u001b[1;33m)\u001b[0m\u001b[1;33m\u001b[0m\u001b[0m\n\u001b[0m\u001b[0;32m    573\u001b[0m \u001b[1;33m\u001b[0m\u001b[0m\n\u001b[0;32m    574\u001b[0m   \u001b[1;32mdef\u001b[0m \u001b[0m_filtered_call\u001b[0m\u001b[1;33m(\u001b[0m\u001b[0mself\u001b[0m\u001b[1;33m,\u001b[0m \u001b[0margs\u001b[0m\u001b[1;33m,\u001b[0m \u001b[0mkwargs\u001b[0m\u001b[1;33m)\u001b[0m\u001b[1;33m:\u001b[0m\u001b[1;33m\u001b[0m\u001b[0m\n",
      "\u001b[1;32mc:\\users\\skihiu\\lib\\site-packages\\tensorflow\\python\\eager\\function.py\u001b[0m in \u001b[0;36m_call_flat\u001b[1;34m(self, args)\u001b[0m\n\u001b[0;32m    669\u001b[0m     \u001b[1;31m# Only need to override the gradient in graph mode and when we have outputs.\u001b[0m\u001b[1;33m\u001b[0m\u001b[1;33m\u001b[0m\u001b[0m\n\u001b[0;32m    670\u001b[0m     \u001b[1;32mif\u001b[0m \u001b[0mcontext\u001b[0m\u001b[1;33m.\u001b[0m\u001b[0mexecuting_eagerly\u001b[0m\u001b[1;33m(\u001b[0m\u001b[1;33m)\u001b[0m \u001b[1;32mor\u001b[0m \u001b[1;32mnot\u001b[0m \u001b[0mself\u001b[0m\u001b[1;33m.\u001b[0m\u001b[0moutputs\u001b[0m\u001b[1;33m:\u001b[0m\u001b[1;33m\u001b[0m\u001b[0m\n\u001b[1;32m--> 671\u001b[1;33m       \u001b[0moutputs\u001b[0m \u001b[1;33m=\u001b[0m \u001b[0mself\u001b[0m\u001b[1;33m.\u001b[0m\u001b[0m_inference_function\u001b[0m\u001b[1;33m.\u001b[0m\u001b[0mcall\u001b[0m\u001b[1;33m(\u001b[0m\u001b[0mctx\u001b[0m\u001b[1;33m,\u001b[0m \u001b[0margs\u001b[0m\u001b[1;33m)\u001b[0m\u001b[1;33m\u001b[0m\u001b[0m\n\u001b[0m\u001b[0;32m    672\u001b[0m     \u001b[1;32melse\u001b[0m\u001b[1;33m:\u001b[0m\u001b[1;33m\u001b[0m\u001b[0m\n\u001b[0;32m    673\u001b[0m       \u001b[0mself\u001b[0m\u001b[1;33m.\u001b[0m\u001b[0m_register_gradient\u001b[0m\u001b[1;33m(\u001b[0m\u001b[1;33m)\u001b[0m\u001b[1;33m\u001b[0m\u001b[0m\n",
      "\u001b[1;32mc:\\users\\skihiu\\lib\\site-packages\\tensorflow\\python\\eager\\function.py\u001b[0m in \u001b[0;36mcall\u001b[1;34m(self, ctx, args)\u001b[0m\n\u001b[0;32m    443\u001b[0m             attrs=(\"executor_type\", executor_type,\n\u001b[0;32m    444\u001b[0m                    \"config_proto\", config),\n\u001b[1;32m--> 445\u001b[1;33m             ctx=ctx)\n\u001b[0m\u001b[0;32m    446\u001b[0m       \u001b[1;31m# Replace empty list with None\u001b[0m\u001b[1;33m\u001b[0m\u001b[1;33m\u001b[0m\u001b[0m\n\u001b[0;32m    447\u001b[0m       \u001b[0moutputs\u001b[0m \u001b[1;33m=\u001b[0m \u001b[0moutputs\u001b[0m \u001b[1;32mor\u001b[0m \u001b[1;32mNone\u001b[0m\u001b[1;33m\u001b[0m\u001b[0m\n",
      "\u001b[1;32mc:\\users\\skihiu\\lib\\site-packages\\tensorflow\\python\\eager\\execute.py\u001b[0m in \u001b[0;36mquick_execute\u001b[1;34m(op_name, num_outputs, inputs, attrs, ctx, name)\u001b[0m\n\u001b[0;32m     59\u001b[0m     tensors = pywrap_tensorflow.TFE_Py_Execute(ctx._handle, device_name,\n\u001b[0;32m     60\u001b[0m                                                \u001b[0mop_name\u001b[0m\u001b[1;33m,\u001b[0m \u001b[0minputs\u001b[0m\u001b[1;33m,\u001b[0m \u001b[0mattrs\u001b[0m\u001b[1;33m,\u001b[0m\u001b[1;33m\u001b[0m\u001b[0m\n\u001b[1;32m---> 61\u001b[1;33m                                                num_outputs)\n\u001b[0m\u001b[0;32m     62\u001b[0m   \u001b[1;32mexcept\u001b[0m \u001b[0mcore\u001b[0m\u001b[1;33m.\u001b[0m\u001b[0m_NotOkStatusException\u001b[0m \u001b[1;32mas\u001b[0m \u001b[0me\u001b[0m\u001b[1;33m:\u001b[0m\u001b[1;33m\u001b[0m\u001b[0m\n\u001b[0;32m     63\u001b[0m     \u001b[1;32mif\u001b[0m \u001b[0mname\u001b[0m \u001b[1;32mis\u001b[0m \u001b[1;32mnot\u001b[0m \u001b[1;32mNone\u001b[0m\u001b[1;33m:\u001b[0m\u001b[1;33m\u001b[0m\u001b[0m\n",
      "\u001b[1;31mKeyboardInterrupt\u001b[0m: "
     ]
    }
   ],
   "source": [
    "model.fit(train_ds, epochs=1000, steps_per_epoch=steps_per_epoch, \n",
    "                validation_data=val_ds, validation_steps=validation_steps,\n",
    "                callbacks=callbacks, class_weight=class_weight)"
   ]
  },
  {
   "cell_type": "code",
   "execution_count": 63,
   "metadata": {},
   "outputs": [
    {
     "data": {
      "text/plain": [
       "610"
      ]
     },
     "execution_count": 63,
     "metadata": {},
     "output_type": "execute_result"
    }
   ],
   "source": [
    "# test count\n",
    "test_count = len(list(Path(test_list).glob('*/*')))\n",
    "test_count"
   ]
  },
  {
   "cell_type": "code",
   "execution_count": 64,
   "metadata": {},
   "outputs": [],
   "source": [
    "names = []\n",
    "preds = []"
   ]
  },
  {
   "cell_type": "code",
   "execution_count": 65,
   "metadata": {},
   "outputs": [
    {
     "name": "stderr",
     "output_type": "stream",
     "text": [
      "610it [00:50, 12.17it/s]\n"
     ]
    }
   ],
   "source": [
    "for i, j in tqdm(test_ds):\n",
    "    i = i.numpy()[np.newaxis, :] # add a new dimension\n",
    "    prediction = model.predict_proba(i) # make predictions\n",
    "    preds.append(prediction) \n",
    "    \n",
    "    # use regular expressions to extract the name of image\n",
    "    name = j.numpy()\n",
    "    name = re.sub(\"[^A-Z0-9]\", \"\", str(name))\n",
    "    name = name.replace(\"JPG\", \"\")\n",
    "    name = name.replace(\"PNG\", \"\")\n",
    "    name = name.replace(\"JPEG\", \"\")\n",
    "    name = name.replace(\"JFIF\", \"\")\n",
    "    names.append(name)\n",
    "    # break"
   ]
  },
  {
   "cell_type": "code",
   "execution_count": 66,
   "metadata": {},
   "outputs": [],
   "source": [
    "# create a dummy dataset\n",
    "leaf_rust = pd.Series(range(610), name=\"leaf_rust\", dtype=np.float32)\n",
    "stem_rust = pd.Series(range(610), name=\"stem_rust\", dtype=np.float32)\n",
    "healthy_wheat = pd.Series(range(610), name=\"healthy_wheat\", dtype=np.float32)"
   ]
  },
  {
   "cell_type": "code",
   "execution_count": 67,
   "metadata": {},
   "outputs": [],
   "source": [
    "sub = pd.concat([leaf_rust, stem_rust, healthy_wheat], axis=1)"
   ]
  },
  {
   "cell_type": "code",
   "execution_count": 68,
   "metadata": {},
   "outputs": [
    {
     "data": {
      "text/plain": [
       "(610, 3)"
      ]
     },
     "execution_count": 68,
     "metadata": {},
     "output_type": "execute_result"
    }
   ],
   "source": [
    "sub.shape"
   ]
  },
  {
   "cell_type": "code",
   "execution_count": 69,
   "metadata": {},
   "outputs": [
    {
     "name": "stderr",
     "output_type": "stream",
     "text": [
      "100%|██████████████████████████████████████████████████████████████████████████████| 610/610 [00:00<00:00, 2904.78it/s]\n"
     ]
    }
   ],
   "source": [
    "# append real predictions to the dataset\n",
    "for i in tqdm(range(0 ,len(preds))):\n",
    "    sub.loc[i] = preds[i]\n",
    "    # break    "
   ]
  },
  {
   "cell_type": "code",
   "execution_count": 70,
   "metadata": {},
   "outputs": [
    {
     "data": {
      "text/html": [
       "<div>\n",
       "<style scoped>\n",
       "    .dataframe tbody tr th:only-of-type {\n",
       "        vertical-align: middle;\n",
       "    }\n",
       "\n",
       "    .dataframe tbody tr th {\n",
       "        vertical-align: top;\n",
       "    }\n",
       "\n",
       "    .dataframe thead th {\n",
       "        text-align: right;\n",
       "    }\n",
       "</style>\n",
       "<table border=\"1\" class=\"dataframe\">\n",
       "  <thead>\n",
       "    <tr style=\"text-align: right;\">\n",
       "      <th></th>\n",
       "      <th>leaf_rust</th>\n",
       "      <th>stem_rust</th>\n",
       "      <th>healthy_wheat</th>\n",
       "    </tr>\n",
       "  </thead>\n",
       "  <tbody>\n",
       "    <tr>\n",
       "      <th>0</th>\n",
       "      <td>0.375249</td>\n",
       "      <td>0.385842</td>\n",
       "      <td>0.238910</td>\n",
       "    </tr>\n",
       "    <tr>\n",
       "      <th>1</th>\n",
       "      <td>0.370928</td>\n",
       "      <td>0.374664</td>\n",
       "      <td>0.254408</td>\n",
       "    </tr>\n",
       "    <tr>\n",
       "      <th>2</th>\n",
       "      <td>0.400215</td>\n",
       "      <td>0.377953</td>\n",
       "      <td>0.221831</td>\n",
       "    </tr>\n",
       "    <tr>\n",
       "      <th>3</th>\n",
       "      <td>0.364660</td>\n",
       "      <td>0.375101</td>\n",
       "      <td>0.260239</td>\n",
       "    </tr>\n",
       "    <tr>\n",
       "      <th>4</th>\n",
       "      <td>0.373243</td>\n",
       "      <td>0.389262</td>\n",
       "      <td>0.237496</td>\n",
       "    </tr>\n",
       "  </tbody>\n",
       "</table>\n",
       "</div>"
      ],
      "text/plain": [
       "   leaf_rust  stem_rust  healthy_wheat\n",
       "0   0.375249   0.385842       0.238910\n",
       "1   0.370928   0.374664       0.254408\n",
       "2   0.400215   0.377953       0.221831\n",
       "3   0.364660   0.375101       0.260239\n",
       "4   0.373243   0.389262       0.237496"
      ]
     },
     "execution_count": 70,
     "metadata": {},
     "output_type": "execute_result"
    }
   ],
   "source": [
    "sub.head()"
   ]
  },
  {
   "cell_type": "code",
   "execution_count": 71,
   "metadata": {},
   "outputs": [],
   "source": [
    "sub[\"ID\"] = names"
   ]
  },
  {
   "cell_type": "code",
   "execution_count": 72,
   "metadata": {},
   "outputs": [
    {
     "data": {
      "text/html": [
       "<div>\n",
       "<style scoped>\n",
       "    .dataframe tbody tr th:only-of-type {\n",
       "        vertical-align: middle;\n",
       "    }\n",
       "\n",
       "    .dataframe tbody tr th {\n",
       "        vertical-align: top;\n",
       "    }\n",
       "\n",
       "    .dataframe thead th {\n",
       "        text-align: right;\n",
       "    }\n",
       "</style>\n",
       "<table border=\"1\" class=\"dataframe\">\n",
       "  <thead>\n",
       "    <tr style=\"text-align: right;\">\n",
       "      <th></th>\n",
       "      <th>leaf_rust</th>\n",
       "      <th>stem_rust</th>\n",
       "      <th>healthy_wheat</th>\n",
       "      <th>ID</th>\n",
       "    </tr>\n",
       "  </thead>\n",
       "  <tbody>\n",
       "    <tr>\n",
       "      <th>605</th>\n",
       "      <td>0.374849</td>\n",
       "      <td>0.380601</td>\n",
       "      <td>0.244550</td>\n",
       "      <td>27CXW6</td>\n",
       "    </tr>\n",
       "    <tr>\n",
       "      <th>606</th>\n",
       "      <td>0.374652</td>\n",
       "      <td>0.387635</td>\n",
       "      <td>0.237713</td>\n",
       "      <td>ZKF0L9</td>\n",
       "    </tr>\n",
       "    <tr>\n",
       "      <th>607</th>\n",
       "      <td>0.390357</td>\n",
       "      <td>0.384024</td>\n",
       "      <td>0.225619</td>\n",
       "      <td>LB8UML</td>\n",
       "    </tr>\n",
       "    <tr>\n",
       "      <th>608</th>\n",
       "      <td>0.373693</td>\n",
       "      <td>0.381876</td>\n",
       "      <td>0.244431</td>\n",
       "      <td>PW2MCN</td>\n",
       "    </tr>\n",
       "    <tr>\n",
       "      <th>609</th>\n",
       "      <td>0.382183</td>\n",
       "      <td>0.382193</td>\n",
       "      <td>0.235624</td>\n",
       "      <td>3RITFB</td>\n",
       "    </tr>\n",
       "  </tbody>\n",
       "</table>\n",
       "</div>"
      ],
      "text/plain": [
       "     leaf_rust  stem_rust  healthy_wheat      ID\n",
       "605   0.374849   0.380601       0.244550  27CXW6\n",
       "606   0.374652   0.387635       0.237713  ZKF0L9\n",
       "607   0.390357   0.384024       0.225619  LB8UML\n",
       "608   0.373693   0.381876       0.244431  PW2MCN\n",
       "609   0.382183   0.382193       0.235624  3RITFB"
      ]
     },
     "execution_count": 72,
     "metadata": {},
     "output_type": "execute_result"
    }
   ],
   "source": [
    "sub.tail()"
   ]
  },
  {
   "cell_type": "code",
   "execution_count": 73,
   "metadata": {},
   "outputs": [],
   "source": [
    "cols = sub.columns.tolist()"
   ]
  },
  {
   "cell_type": "code",
   "execution_count": 75,
   "metadata": {},
   "outputs": [],
   "source": [
    "cols = cols[-1:] + cols[:-1]\n",
    "sub = sub[cols]"
   ]
  },
  {
   "cell_type": "code",
   "execution_count": 76,
   "metadata": {},
   "outputs": [
    {
     "data": {
      "text/html": [
       "<div>\n",
       "<style scoped>\n",
       "    .dataframe tbody tr th:only-of-type {\n",
       "        vertical-align: middle;\n",
       "    }\n",
       "\n",
       "    .dataframe tbody tr th {\n",
       "        vertical-align: top;\n",
       "    }\n",
       "\n",
       "    .dataframe thead th {\n",
       "        text-align: right;\n",
       "    }\n",
       "</style>\n",
       "<table border=\"1\" class=\"dataframe\">\n",
       "  <thead>\n",
       "    <tr style=\"text-align: right;\">\n",
       "      <th></th>\n",
       "      <th>ID</th>\n",
       "      <th>leaf_rust</th>\n",
       "      <th>stem_rust</th>\n",
       "      <th>healthy_wheat</th>\n",
       "    </tr>\n",
       "  </thead>\n",
       "  <tbody>\n",
       "    <tr>\n",
       "      <th>0</th>\n",
       "      <td>F0BMJU</td>\n",
       "      <td>0.375249</td>\n",
       "      <td>0.385842</td>\n",
       "      <td>0.238910</td>\n",
       "    </tr>\n",
       "    <tr>\n",
       "      <th>1</th>\n",
       "      <td>S7GZWC</td>\n",
       "      <td>0.370928</td>\n",
       "      <td>0.374664</td>\n",
       "      <td>0.254408</td>\n",
       "    </tr>\n",
       "    <tr>\n",
       "      <th>2</th>\n",
       "      <td>4J0AQ2</td>\n",
       "      <td>0.400215</td>\n",
       "      <td>0.377953</td>\n",
       "      <td>0.221831</td>\n",
       "    </tr>\n",
       "    <tr>\n",
       "      <th>3</th>\n",
       "      <td>26MSDN</td>\n",
       "      <td>0.364660</td>\n",
       "      <td>0.375101</td>\n",
       "      <td>0.260239</td>\n",
       "    </tr>\n",
       "    <tr>\n",
       "      <th>4</th>\n",
       "      <td>Y7VVJU</td>\n",
       "      <td>0.373243</td>\n",
       "      <td>0.389262</td>\n",
       "      <td>0.237496</td>\n",
       "    </tr>\n",
       "  </tbody>\n",
       "</table>\n",
       "</div>"
      ],
      "text/plain": [
       "       ID  leaf_rust  stem_rust  healthy_wheat\n",
       "0  F0BMJU   0.375249   0.385842       0.238910\n",
       "1  S7GZWC   0.370928   0.374664       0.254408\n",
       "2  4J0AQ2   0.400215   0.377953       0.221831\n",
       "3  26MSDN   0.364660   0.375101       0.260239\n",
       "4  Y7VVJU   0.373243   0.389262       0.237496"
      ]
     },
     "execution_count": 76,
     "metadata": {},
     "output_type": "execute_result"
    }
   ],
   "source": [
    "sub.head()"
   ]
  },
  {
   "cell_type": "code",
   "execution_count": 77,
   "metadata": {},
   "outputs": [],
   "source": [
    "# write to csv\n",
    "sub.to_csv(\"sub.csv\", index=False)"
   ]
  },
  {
   "cell_type": "code",
   "execution_count": null,
   "metadata": {},
   "outputs": [],
   "source": []
  }
 ],
 "metadata": {
  "kernelspec": {
   "display_name": "Python 3",
   "language": "python",
   "name": "python3"
  },
  "language_info": {
   "codemirror_mode": {
    "name": "ipython",
    "version": 3
   },
   "file_extension": ".py",
   "mimetype": "text/x-python",
   "name": "python",
   "nbconvert_exporter": "python",
   "pygments_lexer": "ipython3",
   "version": "3.7.0"
  }
 },
 "nbformat": 4,
 "nbformat_minor": 2
}
